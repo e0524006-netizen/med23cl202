{
  "nbformat": 4,
  "nbformat_minor": 0,
  "metadata": {
    "colab": {
      "provenance": [],
      "authorship_tag": "ABX9TyOXKP6kjnCiRxUu037Hyt6I",
      "include_colab_link": true
    },
    "kernelspec": {
      "name": "python3",
      "display_name": "Python 3"
    },
    "language_info": {
      "name": "python"
    }
  },
  "cells": [
    {
      "cell_type": "markdown",
      "metadata": {
        "id": "view-in-github",
        "colab_type": "text"
      },
      "source": [
        "<a href=\"https://colab.research.google.com/github/e0524006-netizen/med23cl202/blob/main/python2.ipynb\" target=\"_parent\"><img src=\"https://colab.research.google.com/assets/colab-badge.svg\" alt=\"Open In Colab\"/></a>"
      ]
    },
    {
      "cell_type": "code",
      "execution_count": null,
      "metadata": {
        "colab": {
          "base_uri": "https://localhost:8080/",
          "height": 176
        },
        "id": "lI57GhOjLBoa",
        "outputId": "488b1f78-cc82-4409-b360-9cc6a3ad22d7"
      },
      "outputs": [
        {
          "output_type": "error",
          "ename": "AttributeError",
          "evalue": "module 'os' has no attribute 'chider'",
          "traceback": [
            "\u001b[0;31m---------------------------------------------------------------------------\u001b[0m",
            "\u001b[0;31mAttributeError\u001b[0m                            Traceback (most recent call last)",
            "\u001b[0;32m/tmp/ipython-input-2282720918.py\u001b[0m in \u001b[0;36m<cell line: 0>\u001b[0;34m()\u001b[0m\n\u001b[1;32m      1\u001b[0m \u001b[0;32mimport\u001b[0m \u001b[0mos\u001b[0m\u001b[0;34m\u001b[0m\u001b[0;34m\u001b[0m\u001b[0m\n\u001b[1;32m      2\u001b[0m \u001b[0mos\u001b[0m\u001b[0;34m.\u001b[0m\u001b[0mgetcwd\u001b[0m\u001b[0;34m(\u001b[0m\u001b[0;34m)\u001b[0m\u001b[0;34m\u001b[0m\u001b[0;34m\u001b[0m\u001b[0m\n\u001b[0;32m----> 3\u001b[0;31m \u001b[0mos\u001b[0m\u001b[0;34m.\u001b[0m\u001b[0mchider\u001b[0m\u001b[0;34m(\u001b[0m\u001b[0;34m'/content/sampledata'\u001b[0m\u001b[0;34m)\u001b[0m\u001b[0;34m\u001b[0m\u001b[0;34m\u001b[0m\u001b[0m\n\u001b[0m",
            "\u001b[0;31mAttributeError\u001b[0m: module 'os' has no attribute 'chider'"
          ]
        }
      ],
      "source": [
        "import os\n",
        "os.getcwd()\n",
        "os.chider('/content/sampledata')\n"
      ]
    },
    {
      "cell_type": "markdown",
      "source": [
        "variable and data type\n"
      ],
      "metadata": {
        "id": "7m_wIweSPSaf"
      }
    },
    {
      "cell_type": "code",
      "source": [
        "x=5\n",
        "x\n",
        "x+2\n",
        "x-2\n",
        "x**2"
      ],
      "metadata": {
        "colab": {
          "base_uri": "https://localhost:8080/"
        },
        "id": "JrkNTky6PgzO",
        "outputId": "26b06007-5830-491f-f837-01ab1a85e930"
      },
      "execution_count": null,
      "outputs": [
        {
          "output_type": "execute_result",
          "data": {
            "text/plain": [
              "25"
            ]
          },
          "metadata": {},
          "execution_count": 8
        }
      ]
    },
    {
      "cell_type": "markdown",
      "source": [
        "lists\n"
      ],
      "metadata": {
        "id": "lex1j1kbUnMQ"
      }
    },
    {
      "cell_type": "code",
      "source": [
        "a='is'\n",
        "b='nice'\n",
        "mylist =['my', 'list',a,b]\n",
        "mylist2=[[4,5,6,7],[3,4,5,6]]\n",
        "\n",
        "\n",
        "mylist[1]\n",
        "mylist[-3]\n",
        "mylist[1:3]\n",
        "mylist[1:]\n",
        "mylist[:3]\n",
        "mylist[:]\n",
        "\n",
        "mylist2[0][2]\n",
        "\n",
        "\n",
        "x=[1,2,3]\n",
        "y=[10,20,30]\n",
        "z=[x,y]\n",
        "print (z)\n",
        "u= x+y\n",
        "print(u)\n"
      ],
      "metadata": {
        "colab": {
          "base_uri": "https://localhost:8080/"
        },
        "id": "rEt1FSdNUpd-",
        "outputId": "b8cda571-fd3f-40ec-91b2-374a06fbe35e"
      },
      "execution_count": null,
      "outputs": [
        {
          "output_type": "stream",
          "name": "stdout",
          "text": [
            "[[1, 2, 3], [10, 20, 30]]\n",
            "[1, 2, 3, 10, 20, 30]\n"
          ]
        }
      ]
    }
  ]
}