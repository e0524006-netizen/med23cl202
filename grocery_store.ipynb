{
  "nbformat": 4,
  "nbformat_minor": 0,
  "metadata": {
    "colab": {
      "provenance": [],
      "authorship_tag": "ABX9TyNWtXgbUHbfiw8I8xE3B9II",
      "include_colab_link": true
    },
    "kernelspec": {
      "name": "python3",
      "display_name": "Python 3"
    },
    "language_info": {
      "name": "python"
    }
  },
  "cells": [
    {
      "cell_type": "markdown",
      "metadata": {
        "id": "view-in-github",
        "colab_type": "text"
      },
      "source": [
        "<a href=\"https://colab.research.google.com/github/e0524006-netizen/med23cl202/blob/main/grocery_store.ipynb\" target=\"_parent\"><img src=\"https://colab.research.google.com/assets/colab-badge.svg\" alt=\"Open In Colab\"/></a>"
      ]
    },
    {
      "cell_type": "code",
      "execution_count": null,
      "metadata": {
        "colab": {
          "base_uri": "https://localhost:8080/"
        },
        "id": "WZiOeWe-vlIW",
        "outputId": "8ad18e00-3d1d-4472-b995-e1b89f5b4147"
      },
      "outputs": [
        {
          "output_type": "stream",
          "name": "stdout",
          "text": [
            "\n",
            "=== Grocery Store Menu===\n",
            " 1.Show_product\n",
            "2.Add_to_cart\n",
            "3.Remove_from_cart\n",
            "4.View_cart\n",
            "5.Checkout_and_Exit\n",
            " Enter choice:3\n",
            "Removing from cart...\n",
            "\n",
            "=== Grocery Store Menu===\n",
            " 1.Show_product\n",
            "2.Add_to_cart\n",
            "3.Remove_from_cart\n",
            "4.View_cart\n",
            "5.Checkout_and_Exit\n",
            " Enter choice:1\n",
            "Showing products...\n",
            "\n",
            "=== Grocery Store Menu===\n",
            " 1.Show_product\n",
            "2.Add_to_cart\n",
            "3.Remove_from_cart\n",
            "4.View_cart\n",
            "5.Checkout_and_Exit\n"
          ]
        }
      ],
      "source": [
        "# Placeholder functions for now\n",
        "def show_products():\n",
        "  print(\"Showing products...\")\n",
        "\n",
        "def add_to_cart():\n",
        "  print(\"Adding to cart...\")\n",
        "\n",
        "def remove_from_cart():\n",
        "  print(\"Removing from cart...\")\n",
        "\n",
        "def show_cart():\n",
        "  print(\"Showing cart...\")\n",
        "\n",
        "while True:\n",
        "  print (\"\\n=== Grocery Store Menu===\")\n",
        "  print(\" 1.Show_product\")\n",
        "  print (\"2.Add_to_cart\")\n",
        "  print (\"3.Remove_from_cart\")\n",
        "  print (\"4.View_cart\")\n",
        "  print (\"5.Checkout_and_Exit\")\n",
        "\n",
        "\n",
        "  choice = input(\" Enter choice:\")\n",
        "\n",
        "  if choice == \"1\":\n",
        "    show_products()\n",
        "  elif choice==\"2\":\n",
        "    add_to_cart()\n",
        "  elif choice==\"3\":\n",
        "    remove_from_cart()\n",
        "  elif choice==\"4\":\n",
        "    show_cart()\n",
        "  elif choice==\"5\":\n",
        "    print(\"thankyou for shoping:\")\n",
        "    break\n",
        "  else:\n",
        "    print(\"invalid input\")"
      ]
    },
    {
      "cell_type": "code",
      "source": [
        "from re import I\n",
        "# step 1: available prduct and price\n",
        "#define a new product for listing the grocery item\n",
        "\n",
        "products = [\"vegetable\",\"bread\",\"butter\",\"jam\"]\n",
        "cost =[100.50,35.75,150.10,80.75]\n",
        "\n",
        "# define cart\n",
        "\n",
        "cart=[]\n",
        "# display the menu\n",
        "def show_products():\n",
        "  print(\"\\n THE AVAILABLE PRODUCTS\")\n",
        "  for i, item in enumerate (products):\n",
        "    print(f\"{i+1} - {item} - {cost[i]}\")\n",
        "show_products()"
      ],
      "metadata": {
        "colab": {
          "base_uri": "https://localhost:8080/"
        },
        "id": "Sq0exdt_yoUQ",
        "outputId": "3c6da1f9-8374-42de-f416-a5a19ad36d6b"
      },
      "execution_count": 5,
      "outputs": [
        {
          "output_type": "stream",
          "name": "stdout",
          "text": [
            "\n",
            " THE AVAILABLE PRODUCTS\n",
            "1 - vegetable - 100.5\n",
            "2 - bread - 35.75\n",
            "3 - butter - 150.1\n",
            "4 - jam - 80.75\n"
          ]
        }
      ]
    },
    {
      "cell_type": "code",
      "source": [
        "#add item to the cart\n",
        "def add_to_cart():\n",
        "  show_products()\n",
        "  choice= int(input(\"Enter the product number to add to cart:\"))-1\n",
        "  if 0<=choice<len(products):\n",
        "    cart.append(choice)\n",
        "    print(f\"{products [choice]} added to the cart!\")\n",
        "  else :\n",
        "    print(\"Invalid product number\")"
      ],
      "metadata": {
        "id": "LhXnDD8_1SJ6"
      },
      "execution_count": 9,
      "outputs": []
    },
    {
      "cell_type": "code",
      "source": [
        "#Remove item from the cart\n",
        "def remove_from_cart():\n",
        "  if not cart:\n",
        "    print(\"Your cart is empty\")\n",
        "    return\n",
        "  show_cart()\n",
        "  try:\n",
        "    choice = int(input(\"Enter the number of the item to remove from cart:\")) - 1\n",
        "    if 0 <= choice < len(cart):\n",
        "      removed_item_index = cart.pop(choice)\n",
        "      print(f\"{products[removed_item_index]} removed from the cart!\")\n",
        "    else:\n",
        "      print(\"Invalid item number\")\n",
        "  except ValueError:\n",
        "    print(\"Invalid input. Please enter a number.\")"
      ],
      "metadata": {
        "id": "yG6VALDM2oCj"
      },
      "execution_count": 16,
      "outputs": []
    },
    {
      "cell_type": "code",
      "source": [
        "def show_cart():\n",
        "  if not cart:\n",
        "    print(\"Your cart is empty\")\n",
        "    return\n",
        "\n",
        "    print()"
      ],
      "metadata": {
        "id": "J4cTDHJB3juI"
      },
      "execution_count": null,
      "outputs": []
    }
  ]
}