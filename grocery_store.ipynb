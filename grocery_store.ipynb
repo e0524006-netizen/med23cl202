{
  "nbformat": 4,
  "nbformat_minor": 0,
  "metadata": {
    "colab": {
      "provenance": [],
      "authorship_tag": "ABX9TyP+PRFxUfppl7OxRBOQ//Gq",
      "include_colab_link": true
    },
    "kernelspec": {
      "name": "python3",
      "display_name": "Python 3"
    },
    "language_info": {
      "name": "python"
    }
  },
  "cells": [
    {
      "cell_type": "markdown",
      "metadata": {
        "id": "view-in-github",
        "colab_type": "text"
      },
      "source": [
        "<a href=\"https://colab.research.google.com/github/e0524006-netizen/med23cl202/blob/main/grocery_store.ipynb\" target=\"_parent\"><img src=\"https://colab.research.google.com/assets/colab-badge.svg\" alt=\"Open In Colab\"/></a>"
      ]
    },
    {
      "cell_type": "code",
      "execution_count": 1,
      "metadata": {
        "colab": {
          "base_uri": "https://localhost:8080/",
          "height": 106
        },
        "id": "WZiOeWe-vlIW",
        "outputId": "73b6dfae-9888-4edc-c77f-1d1ef3e23fa9"
      },
      "outputs": [
        {
          "output_type": "error",
          "ename": "IndentationError",
          "evalue": "expected an indented block after 'if' statement on line 12 (ipython-input-746348673.py, line 13)",
          "traceback": [
            "\u001b[0;36m  File \u001b[0;32m\"/tmp/ipython-input-746348673.py\"\u001b[0;36m, line \u001b[0;32m13\u001b[0m\n\u001b[0;31m    elif choice==\"2\":\u001b[0m\n\u001b[0m    ^\u001b[0m\n\u001b[0;31mIndentationError\u001b[0m\u001b[0;31m:\u001b[0m expected an indented block after 'if' statement on line 12\n"
          ]
        }
      ],
      "source": [
        "while true:\n",
        "  print (\"\\=== Grocery Store Menu===\")\n",
        "  print(\" 1.Show product\")\n",
        "  print (\"2.Add to cart\")\n",
        "  print (\"3.Remove from cart\")\n",
        "  print (\"4.View cart\")\n",
        "  print (\"5.Cheakout and Exit\")\n",
        "\n",
        "\n",
        "  choice = input(\" Enter choice:\")\n",
        "\n",
        "  if choice == \"1\":\n",
        "    show_products()\n",
        "  elif choice==\"2\":\n",
        "    add_to_cart()\n",
        "  elif choice==\"3\":\n",
        "    remove_from_cart()\n",
        "  elif choice==\"4\":\n",
        "    show_cart()\n",
        "  elif choice==\"5\":\n",
        "    print(\"thankyou for shoping:\")\n",
        "    break\n",
        "  else:\n",
        "    print(\"invalid input\")\n"
      ]
    }
  ]
}