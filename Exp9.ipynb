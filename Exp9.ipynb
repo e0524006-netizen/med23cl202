{
  "nbformat": 4,
  "nbformat_minor": 0,
  "metadata": {
    "colab": {
      "provenance": [],
      "authorship_tag": "ABX9TyOmCM/mFdwJA3v+M4CwLK6/",
      "include_colab_link": true
    },
    "kernelspec": {
      "name": "python3",
      "display_name": "Python 3"
    },
    "language_info": {
      "name": "python"
    }
  },
  "cells": [
    {
      "cell_type": "markdown",
      "metadata": {
        "id": "view-in-github",
        "colab_type": "text"
      },
      "source": [
        "<a href=\"https://colab.research.google.com/github/e0524006-netizen/med23cl202/blob/main/Exp9.ipynb\" target=\"_parent\"><img src=\"https://colab.research.google.com/assets/colab-badge.svg\" alt=\"Open In Colab\"/></a>"
      ]
    },
    {
      "cell_type": "markdown",
      "source": [
        "FILE HANDLING\n"
      ],
      "metadata": {
        "id": "6Gt-KLXBCnVl"
      }
    },
    {
      "cell_type": "code",
      "execution_count": 13,
      "metadata": {
        "colab": {
          "base_uri": "https://localhost:8080/"
        },
        "id": "DjxfCUyA2NM0",
        "outputId": "72ddc522-1efd-4b8f-da93-633c77f20edb"
      },
      "outputs": [
        {
          "output_type": "stream",
          "name": "stdout",
          "text": [
            "=== cricket : READ THE ENTIRE FILE====\n",
            "Cricket is a bat-and-ball game for two teams of eleven players, originating in England and now globally popular, especially in South Asia and Australia. Players score runs by hitting a ball with a bat and running between two \"wickets\" (a set of three wooden stumps), while the fielding team tries to dismiss batters by hitting the wickets or catching the ball. The game is played on an oval field with a central rectangular \"pitch,\" and matches can vary from a few hours to several days, depending on the format. \n"
          ]
        }
      ],
      "source": [
        "\n",
        "file_path = r\"/content/cricket.txt\"\n",
        "print(\"=== cricket : READ THE ENTIRE FILE====\")\n",
        "with open(file_path, 'r') as file:\n",
        "    content = file.read()\n",
        "    print(content)"
      ]
    },
    {
      "cell_type": "markdown",
      "source": [
        "READ SPECIF PARTS\n",
        "\n"
      ],
      "metadata": {
        "id": "wsrXx-ulCvlb"
      }
    },
    {
      "cell_type": "code",
      "source": [
        "filepath =r\"/content/cricket.txt\"\n",
        "print(\"==== example 2: READ THE SPECFIC PARTS\")\n",
        "with open (file_path , 'r') as file:\n",
        "    first_15_chars = file.read(15)\n",
        "    print(first_15_chars )\n",
        "    file.seek(0)\n",
        "    next_15_chars = file.read(15)\n",
        "    print(next_15_chars)"
      ],
      "metadata": {
        "colab": {
          "base_uri": "https://localhost:8080/"
        },
        "id": "n5_ST0yu9Mhm",
        "outputId": "f3015dd7-fc71-4e04-97d6-0741df79c9b2"
      },
      "execution_count": 14,
      "outputs": [
        {
          "output_type": "stream",
          "name": "stdout",
          "text": [
            "==== example 2: READ THE SPECFIC PARTS\n",
            "Cricket is a ba\n",
            "Cricket is a ba\n"
          ]
        }
      ]
    },
    {
      "cell_type": "markdown",
      "source": [
        "LINE APPEND"
      ],
      "metadata": {
        "id": "GoRb_rDwFgwm"
      }
    },
    {
      "cell_type": "code",
      "source": [
        "file_path = r\"/content/example.1.txt\"\n",
        "with open(file_path, 'a') as file:\n",
        "    file.write(\"\\nThis line is appended.\")\n",
        "print(\"New line appended Successfully\")"
      ],
      "metadata": {
        "colab": {
          "base_uri": "https://localhost:8080/"
        },
        "id": "6STyl4evAf-9",
        "outputId": "04df1125-8ae5-41ab-8503-0ac5407521a1"
      },
      "execution_count": 16,
      "outputs": [
        {
          "output_type": "stream",
          "name": "stdout",
          "text": [
            "New line appended Successfully\n"
          ]
        }
      ]
    },
    {
      "cell_type": "markdown",
      "source": [
        "ADDING MULTIPL LINE\n"
      ],
      "metadata": {
        "id": "JhRkfP1ZFsaz"
      }
    },
    {
      "cell_type": "code",
      "source": [
        "file_path = r\"/content/hello world.txt\"\n",
        "\n",
        "lines = [\n",
        "    \"line 1 = New line\\n\",\n",
        "    \"line 2 = New line written\\n\",\n",
        "    \"line 3 = New line written successfully\\n\"\n",
        "]\n",
        "\n",
        "with open(file_path, \"a\") as file:\n",
        "  file.writelines(lines)\n",
        "print(\"multiple lines appended successfully\")"
      ],
      "metadata": {
        "colab": {
          "base_uri": "https://localhost:8080/"
        },
        "id": "hG5vO9GlGET0",
        "outputId": "ec5b4499-40c8-41ea-cc10-49e570f80cef"
      },
      "execution_count": 15,
      "outputs": [
        {
          "output_type": "stream",
          "name": "stdout",
          "text": [
            "multiple lines appended successfully\n"
          ]
        }
      ]
    }
  ]
}