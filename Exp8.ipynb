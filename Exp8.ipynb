{
  "nbformat": 4,
  "nbformat_minor": 0,
  "metadata": {
    "colab": {
      "provenance": [],
      "authorship_tag": "ABX9TyNP+km4j+M12V+1YCg9p1IH",
      "include_colab_link": true
    },
    "kernelspec": {
      "name": "python3",
      "display_name": "Python 3"
    },
    "language_info": {
      "name": "python"
    }
  },
  "cells": [
    {
      "cell_type": "markdown",
      "metadata": {
        "id": "view-in-github",
        "colab_type": "text"
      },
      "source": [
        "<a href=\"https://colab.research.google.com/github/e0524006-netizen/med23cl202/blob/main/Exp8.ipynb\" target=\"_parent\"><img src=\"https://colab.research.google.com/assets/colab-badge.svg\" alt=\"Open In Colab\"/></a>"
      ]
    },
    {
      "cell_type": "code",
      "execution_count": null,
      "metadata": {
        "colab": {
          "base_uri": "https://localhost:8080/"
        },
        "id": "FPnPcrpTyuwu",
        "outputId": "7ae83961-df5e-4255-cc16-f54a5898e354"
      },
      "outputs": [
        {
          "output_type": "stream",
          "name": "stdout",
          "text": [
            "Coffee is ready!\n"
          ]
        }
      ],
      "source": [
        "class CoffeeMachine:\n",
        "    def __init__(self):\n",
        "      self.water = 100\n",
        "\n",
        "    def make_coffee(self):\n",
        "      if self.water >= 10:\n",
        "        self.water -= 10\n",
        "        print(\"Coffee is ready!\")\n",
        "      else:\n",
        "        print('Not enough water.')\n",
        "\n",
        "machine = CoffeeMachine()\n",
        "machine.make_coffee()"
      ]
    },
    {
      "cell_type": "code",
      "source": [
        "class BankAccount:\n",
        "  def __init__(self):\n",
        "    self.__balance = 0\n",
        "  def set_balance(self, amount):\n",
        "    self.__balance = amount\n",
        "  def get_balance(self):\n",
        "    return self.__balance\n",
        "\n",
        "account = BankAccount()\n",
        "account.set_balance(1000)\n",
        "print(\"Account balance =\", account.get_balance())"
      ],
      "metadata": {
        "colab": {
          "base_uri": "https://localhost:8080/"
        },
        "id": "tQgfi0XF20La",
        "outputId": "53d351f8-d57f-46df-dbea-b43a7e388387"
      },
      "execution_count": null,
      "outputs": [
        {
          "output_type": "stream",
          "name": "stdout",
          "text": [
            "Account balance = 1000\n"
          ]
        }
      ]
    },
    {
      "cell_type": "code",
      "source": [
        "class animal:\n",
        "  def move(self):\n",
        "    print(\"animal is moving\")\n",
        "class dog(animal):\n",
        "  def bark(self):\n",
        "    print(\"dog is barking\")\n",
        "class cat(animal):\n",
        "  def meow(self):\n",
        "    print(\"cat is meowing\")\n",
        "\n",
        "    dog =dog()\n",
        "    dog.move()\n",
        "    dog.bark()\n",
        "\n",
        "    cat = cat()\n",
        "    cat.move()\n",
        "    cat.meow()\n"
      ],
      "metadata": {
        "id": "hT3fqLjS67LZ"
      },
      "execution_count": null,
      "outputs": []
    },
    {
      "cell_type": "code",
      "source": [],
      "metadata": {
        "id": "GBv5dyGa-PCc"
      },
      "execution_count": null,
      "outputs": []
    },
    {
      "cell_type": "code",
      "source": [
        "class Animal:\n",
        "  def speak(self):\n",
        "    print(\"Animal is speaking\")\n",
        "\n",
        "class dog(Animal):\n",
        "  def bark(self):\n",
        "    print(\"Dog is barking\")\n",
        "\n",
        "dog = Dog()\n",
        "\n",
        "dog.speak()"
      ],
      "metadata": {
        "id": "9oDJvlFy-2ah"
      },
      "execution_count": null,
      "outputs": []
    }
  ]
}